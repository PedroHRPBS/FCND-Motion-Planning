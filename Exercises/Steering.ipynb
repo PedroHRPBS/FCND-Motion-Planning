{
 "cells": [
  {
   "cell_type": "markdown",
   "metadata": {},
   "source": [
    "In the previous notebook you simulated the Dubins Car model by choosing random steering angles. In this case, you'll consider the case where you have a destination `x2` in mind, and you guess controls that move you toward your destination (maybe ;). \n"
   ]
  },
  {
   "cell_type": "code",
   "execution_count": 1,
   "metadata": {},
   "outputs": [],
   "source": [
    "import numpy as np\n",
    "import matplotlib.pyplot as plt\n",
    "\n",
    "%matplotlib inline"
   ]
  },
  {
   "cell_type": "code",
   "execution_count": 2,
   "metadata": {},
   "outputs": [],
   "source": [
    "plt.rcParams['figure.figsize'] = 12, 12"
   ]
  },
  {
   "cell_type": "markdown",
   "metadata": {},
   "source": [
    "Implement a function called `steer()`, which takes as inputs two states `x1` and `x2` and returns a control input (steering angle) that \"tries\" to make progress from `x1` to `x2`. This method should consist roughly of the following:\n",
    "\n",
    "1. Get a sense of where `x2` is relative to the state of `x1` by calculating the orientation difference between the current orientation, $\\theta$, and the direction toward `x2`.\n",
    "2. Generate a random steering angle by sampling from a gaussian that is centered roughly on some direction that will move you from `x1` to `x2`.\n",
    "3. Clip the angle if it is outside the range allowed by `MAX_STEERING_ANGLE`.\n",
    "\n",
    "This might all sound a little fuzzy, but that's the idea here! We're just going to try some guessing and see if we can find a simple method for making progress from `x1` to `x2`.  "
   ]
  },
  {
   "cell_type": "code",
   "execution_count": 50,
   "metadata": {},
   "outputs": [],
   "source": [
    "# limit the steering angle range\n",
    "MAX_STEERING_ANGLE = np.deg2rad(30)\n",
    "\n",
    "def steer(x1, x2):\n",
    "    theta = x1[2]\n",
    "    if x2[0] == x1[0]:\n",
    "        target_direction = 0\n",
    "    else:\n",
    "        target_direction = np.arctan2(x2[1] - x1[1], x2[0] - x1[0])\n",
    "    \n",
    "    necessary_angle = np.clip(theta - target_direction, -MAX_STEERING_ANGLE, MAX_STEERING_ANGLE)   \n",
    "    steer_angle = np.random.normal(necessary_angle, 0.01, None)\n",
    "    print(necessary_angle, target_direction)\n",
    "    # TODO: return steering angle\n",
    "    return steer_angle"
   ]
  },
  {
   "cell_type": "markdown",
   "metadata": {},
   "source": [
    "Modification of the Dubin's car simulation from the previous notebook."
   ]
  },
  {
   "cell_type": "code",
   "execution_count": 51,
   "metadata": {},
   "outputs": [],
   "source": [
    "def simulate(state, angle, v, dt):\n",
    "    x = state[0]\n",
    "    y = state[1]\n",
    "    theta = state[2]    \n",
    "    \n",
    "    nx = x + v*np.cos(theta)*dt\n",
    "    ny = y + v*np.sin(theta)*dt\n",
    "    ntheta = theta + v*np.tan(angle)*dt\n",
    "    \n",
    "    return [nx, ny, ntheta]"
   ]
  },
  {
   "cell_type": "markdown",
   "metadata": {},
   "source": [
    "Initially, we place the car at the center of the coordinate system (0, 0) and give heading of $0$ which is facing in the positive direction along the $x$ axis."
   ]
  },
  {
   "cell_type": "code",
   "execution_count": 52,
   "metadata": {},
   "outputs": [
    {
     "name": "stdout",
     "output_type": "stream",
     "text": [
      "-0.5235987755982988 0.7853981633974483\n",
      "-0.5235987755982988 0.7853981633974483\n",
      "-0.5235987755982988 0.7853981633974483\n",
      "-0.5235987755982988 0.7853981633974483\n",
      "-0.5235987755982988 0.7853981633974483\n",
      "-0.5235987755982988 0.7853981633974483\n",
      "-0.5235987755982988 0.7853981633974483\n",
      "-0.5235987755982988 0.7853981633974483\n",
      "-0.5235987755982988 0.7853981633974483\n",
      "-0.5235987755982988 0.7853981633974483\n",
      "-0.5235987755982988 0.7853981633974483\n",
      "-0.5235987755982988 0.7853981633974483\n",
      "-0.5235987755982988 0.7853981633974483\n",
      "-0.5235987755982988 0.7853981633974483\n",
      "-0.5235987755982988 0.7853981633974483\n",
      "-0.5235987755982988 0.7853981633974483\n",
      "-0.5235987755982988 0.7853981633974483\n",
      "-0.5235987755982988 0.7853981633974483\n",
      "-0.5235987755982988 0.7853981633974483\n",
      "-0.5235987755982988 0.7853981633974483\n",
      "-0.5235987755982988 0.7853981633974483\n",
      "-0.5235987755982988 0.7853981633974483\n",
      "-0.5235987755982988 0.7853981633974483\n",
      "-0.5235987755982988 0.7853981633974483\n",
      "-0.5235987755982988 0.7853981633974483\n",
      "-0.5235987755982988 0.7853981633974483\n",
      "-0.5235987755982988 0.7853981633974483\n",
      "-0.5235987755982988 0.7853981633974483\n",
      "-0.5235987755982988 0.7853981633974483\n",
      "-0.5235987755982988 0.7853981633974483\n",
      "-0.5235987755982988 0.7853981633974483\n",
      "-0.5235987755982988 0.7853981633974483\n",
      "-0.5235987755982988 0.7853981633974483\n",
      "-0.5235987755982988 0.7853981633974483\n",
      "-0.5235987755982988 0.7853981633974483\n",
      "-0.5235987755982988 0.7853981633974483\n",
      "-0.5235987755982988 0.7853981633974483\n",
      "-0.5235987755982988 0.7853981633974483\n",
      "-0.5235987755982988 0.7853981633974483\n",
      "-0.5235987755982988 0.7853981633974483\n",
      "-0.5235987755982988 0.7853981633974483\n",
      "-0.5235987755982988 0.7853981633974483\n",
      "-0.5235987755982988 0.7853981633974483\n",
      "-0.5235987755982988 0.7853981633974483\n",
      "-0.5235987755982988 0.7853981633974483\n",
      "-0.5235987755982988 0.7853981633974483\n",
      "-0.5235987755982988 0.7853981633974483\n",
      "-0.5235987755982988 0.7853981633974483\n",
      "-0.5235987755982988 0.7853981633974483\n",
      "-0.5235987755982988 0.7853981633974483\n",
      "-0.5235987755982988 0.7853981633974483\n",
      "-0.5235987755982988 0.7853981633974483\n",
      "-0.5235987755982988 0.7853981633974483\n",
      "-0.5235987755982988 0.7853981633974483\n",
      "-0.5235987755982988 0.7853981633974483\n",
      "-0.5235987755982988 0.7853981633974483\n",
      "-0.5235987755982988 0.7853981633974483\n",
      "-0.5235987755982988 0.7853981633974483\n",
      "-0.5235987755982988 0.7853981633974483\n",
      "-0.5235987755982988 0.7853981633974483\n",
      "-0.5235987755982988 0.7853981633974483\n",
      "-0.5235987755982988 0.7853981633974483\n",
      "-0.5235987755982988 0.7853981633974483\n",
      "-0.5235987755982988 0.7853981633974483\n",
      "-0.5235987755982988 0.7853981633974483\n",
      "-0.5235987755982988 0.7853981633974483\n",
      "-0.5235987755982988 0.7853981633974483\n",
      "-0.5235987755982988 0.7853981633974483\n",
      "-0.5235987755982988 0.7853981633974483\n",
      "-0.5235987755982988 0.7853981633974483\n",
      "-0.5235987755982988 0.7853981633974483\n",
      "-0.5235987755982988 0.7853981633974483\n",
      "-0.5235987755982988 0.7853981633974483\n",
      "-0.5235987755982988 0.7853981633974483\n",
      "-0.5235987755982988 0.7853981633974483\n",
      "-0.5235987755982988 0.7853981633974483\n",
      "-0.5235987755982988 0.7853981633974483\n",
      "-0.5235987755982988 0.7853981633974483\n",
      "-0.5235987755982988 0.7853981633974483\n",
      "-0.5235987755982988 0.7853981633974483\n",
      "-0.5235987755982988 0.7853981633974483\n",
      "-0.5235987755982988 0.7853981633974483\n",
      "-0.5235987755982988 0.7853981633974483\n",
      "-0.5235987755982988 0.7853981633974483\n",
      "-0.5235987755982988 0.7853981633974483\n",
      "-0.5235987755982988 0.7853981633974483\n",
      "-0.5235987755982988 0.7853981633974483\n",
      "-0.5235987755982988 0.7853981633974483\n",
      "-0.5235987755982988 0.7853981633974483\n",
      "-0.5235987755982988 0.7853981633974483\n",
      "-0.5235987755982988 0.7853981633974483\n",
      "-0.5235987755982988 0.7853981633974483\n",
      "-0.5235987755982988 0.7853981633974483\n",
      "-0.5235987755982988 0.7853981633974483\n",
      "-0.5235987755982988 0.7853981633974483\n",
      "-0.5235987755982988 0.7853981633974483\n",
      "-0.5235987755982988 0.7853981633974483\n",
      "-0.5235987755982988 0.7853981633974483\n",
      "-0.5235987755982988 0.7853981633974483\n",
      "-0.5235987755982988 0.7853981633974483\n",
      "(100, 51, 3)\n"
     ]
    }
   ],
   "source": [
    "# travel in time increments of `dt` up until `T`.\n",
    "dt = 0.2\n",
    "T = 10\n",
    "\n",
    "start = [0, 0, 0]\n",
    "goal = [10, 10, 0]\n",
    "\n",
    "# Run the simulation 100 times to get a feel for the output\n",
    "angles = [steer(start, goal) for _ in range(100)]\n",
    "lines = []\n",
    "\n",
    "for angle in angles:\n",
    "    line = [start]\n",
    "    state = np.copy(start)\n",
    "    v = np.random.uniform(0, 1)\n",
    "    for _ in np.arange(0, T, dt):\n",
    "        state = simulate(state, angle, v, dt)\n",
    "        line.append(state)\n",
    "    lines.append(line)\n",
    "    \n",
    "lines = np.array(lines)\n",
    "print(lines.shape)"
   ]
  },
  {
   "cell_type": "markdown",
   "metadata": {},
   "source": [
    "Now let's visualize the path! It should be a smooth path from the start location to the goal location."
   ]
  },
  {
   "cell_type": "code",
   "execution_count": 49,
   "metadata": {},
   "outputs": [
    {
     "data": {
      "image/png": "[encoded data removed]",
      "text/plain": [
       "<matplotlib.figure.Figure at 0x1e87f175860>"
      ]
     },
     "metadata": {},
     "output_type": "display_data"
    }
   ],
   "source": [
    "for i in range(lines.shape[0]):\n",
    "    plt.plot(lines[i, :, 0], lines[i, :, 1], 'b-')\n",
    "plt.plot(start[0], start[1], 'bo')\n",
    "plt.plot(goal[0], goal[1], 'ro')\n",
    "plt.axis('equal')\n",
    "plt.xlabel('X')\n",
    "plt.ylabel('Y')\n",
    "plt.show()"
   ]
  },
  {
   "cell_type": "markdown",
   "metadata": {},
   "source": [
    "[solution](/notebooks/Steering-Solution.ipynb)"
   ]
  },
  {
   "cell_type": "code",
   "execution_count": null,
   "metadata": {},
   "outputs": [],
   "source": []
  }
 ],
 "metadata": {
  "kernelspec": {
   "display_name": "Python 3",
   "language": "python",
   "name": "python3"
  },
  "language_info": {
   "codemirror_mode": {
    "name": "ipython",
    "version": 3
   },
   "file_extension": ".py",
   "mimetype": "text/x-python",
   "name": "python",
   "nbconvert_exporter": "python",
   "pygments_lexer": "ipython3",
   "version": "3.6.3"
  }
 },
 "nbformat": 4,
 "nbformat_minor": 2
}
