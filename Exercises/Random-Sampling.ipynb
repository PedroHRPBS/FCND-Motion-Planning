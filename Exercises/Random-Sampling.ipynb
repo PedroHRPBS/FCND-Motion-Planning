{
 "cells": [
  {
   "cell_type": "markdown",
   "metadata": {},
   "source": [
    "# Random Sampling\n",
    "\n",
    "In this notebook you'll work with the obstacle's polygon representation itself.\n",
    "\n",
    "Your tasks will be:\n",
    "\n",
    "1. Create polygons.\n",
    "2. Sample random 3D points.\n",
    "3. Remove points contained by an obstacle polygon.\n",
    "\n",
    "Recall, a point $(x, y, z)$ collides with a polygon if the $(x, y)$ coordinates are contained by the polygon and the $z$ coordinate (height) is less than the height of the polygon."
   ]
  },
  {
   "cell_type": "code",
   "execution_count": 336,
   "metadata": {},
   "outputs": [],
   "source": [
    "import time\n",
    "import numpy as np\n",
    "import matplotlib.pyplot as plt\n",
    "from mpl_toolkits.mplot3d import Axes3D\n",
    "from shapely.geometry import Polygon, Point\n",
    "%matplotlib inline \n",
    "\n"
   ]
  },
  {
   "cell_type": "code",
   "execution_count": 337,
   "metadata": {},
   "outputs": [],
   "source": [
    "plt.rcParams['figure.figsize'] = 12, 12"
   ]
  },
  {
   "cell_type": "code",
   "execution_count": 338,
   "metadata": {},
   "outputs": [
    {
     "name": "stdout",
     "output_type": "stream",
     "text": [
      "[[-310.2389   -439.2315     85.5         5.          5.         85.5     ]\n",
      " [-300.2389   -439.2315     85.5         5.          5.         85.5     ]\n",
      " [-290.2389   -439.2315     85.5         5.          5.         85.5     ]\n",
      " ...\n",
      " [ 257.8061    425.1645      1.75852     1.292725    1.292725    1.944791]\n",
      " [ 293.9967    368.3391      3.557666    1.129456    1.129456    3.667319]\n",
      " [ 281.5162    354.4156      4.999351    1.053772    1.053772    4.950246]]\n"
     ]
    }
   ],
   "source": [
    "# This is the same obstacle data from the previous lesson.\n",
    "filename = 'colliders.csv'\n",
    "data = np.loadtxt(filename, delimiter=',', dtype='Float64', skiprows=2)\n",
    "print(data)\n",
    "safe_distance = 3"
   ]
  },
  {
   "cell_type": "markdown",
   "metadata": {},
   "source": [
    "## Create Polygons"
   ]
  },
  {
   "cell_type": "code",
   "execution_count": 339,
   "metadata": {},
   "outputs": [],
   "source": [
    "def extract_polygons(data, safety_distance):\n",
    "\n",
    "    polygons = []\n",
    "    for i in range(data.shape[0]):\n",
    "        north, east, alt, d_north, d_east, d_alt = data[i, :]\n",
    "        \n",
    "        Np = np.ceil(north + d_north + safety_distance)\n",
    "        Nn = np.ceil(north - d_north - safety_distance)\n",
    "        Ep = np.ceil(east + d_east + safety_distance)\n",
    "        En = np.ceil(east - d_east - safety_distance)\n",
    "        \n",
    "        corners = [(Nn, En), (Nn, Ep), (Np, Ep), (Np, En)]\n",
    "        \n",
    "        height = np.ceil(alt + d_alt + safety_distance)\n",
    "\n",
    "        p = Polygon(corners)\n",
    "        center = (north, east)\n",
    "        polygons.append((p, height, center))\n",
    "\n",
    "    return polygons\n"
   ]
  },
  {
   "cell_type": "code",
   "execution_count": 340,
   "metadata": {},
   "outputs": [
    {
     "name": "stdout",
     "output_type": "stream",
     "text": [
      "(<shapely.geometry.polygon.Polygon object at 0x0000027F8D1488D0>, 174.0, (-310.2389, -439.2315))\n"
     ]
    }
   ],
   "source": [
    "polygons = extract_polygons(data, safe_distance)\n",
    "len(polygons)\n",
    "print(polygons[0])"
   ]
  },
  {
   "cell_type": "markdown",
   "metadata": {},
   "source": [
    "# Sampling 3D Points\n",
    "\n",
    "Now that we have the extracted the polygons, we need to sample random 3D points. Currently we don't know suitable ranges for x, y, and z. Let's figure out the max and min values for each dimension."
   ]
  },
  {
   "cell_type": "code",
   "execution_count": 341,
   "metadata": {},
   "outputs": [
    {
     "name": "stdout",
     "output_type": "stream",
     "text": [
      "X\n",
      "min = -315.2389, max = 604.7611\n",
      "\n",
      "Y\n",
      "min = -444.2315, max = 475.7685\n",
      "\n",
      "Z\n",
      "min = 0, max = 10\n"
     ]
    }
   ],
   "source": [
    "xmin = np.min(data[:, 0] - data[:, 3])\n",
    "xmax = np.max(data[:, 0] + data[:, 3])\n",
    "\n",
    "ymin = np.min(data[:, 1] - data[:, 4])\n",
    "ymax = np.max(data[:, 1] + data[:, 4])\n",
    "\n",
    "zmin = 0\n",
    "# Limit the z axis for the visualization\n",
    "zmax = 10\n",
    "\n",
    "print(\"X\")\n",
    "print(\"min = {0}, max = {1}\\n\".format(xmin, xmax))\n",
    "\n",
    "print(\"Y\")\n",
    "print(\"min = {0}, max = {1}\\n\".format(ymin, ymax))\n",
    "\n",
    "print(\"Z\")\n",
    "print(\"min = {0}, max = {1}\".format(zmin, zmax))"
   ]
  },
  {
   "cell_type": "markdown",
   "metadata": {},
   "source": [
    "Next, it's time to sample points. All that's left is picking the distribution and number of samples. The uniform distribution makes sense in this situation since we we'd like to encourage searching the whole space."
   ]
  },
  {
   "cell_type": "code",
   "execution_count": 342,
   "metadata": {},
   "outputs": [],
   "source": [
    "num_samples = 100\n",
    "\n",
    "xvals = np.random.uniform(xmin, xmax, num_samples)\n",
    "yvals = np.random.uniform(ymin, ymax, num_samples)\n",
    "zvals = np.random.uniform(zmin, zmax, num_samples)\n",
    "\n",
    "samples = list(zip(xvals, yvals, zvals))"
   ]
  },
  {
   "cell_type": "code",
   "execution_count": 353,
   "metadata": {},
   "outputs": [
    {
     "data": {
      "text/plain": [
       "[(271.2854773990811, -258.1375259109057, 2.059922427493449),\n",
       " (467.8438151294219, -425.942508345856, 1.6322367825648365),\n",
       " (-170.94206828126778, 404.4794155217728, 0.9369165058115791),\n",
       " (358.27428344907577, 69.60160551661613, 5.611630973809437),\n",
       " (180.9403755107661, -266.6868158236423, 2.8930026775638917),\n",
       " (585.9755557746778, -160.6944865753075, 4.2188129732356145),\n",
       " (331.7238266025907, 321.79045017103704, 4.685745619082998),\n",
       " (-20.936201146400265, 279.23244467884047, 2.5829510274143708),\n",
       " (302.20461557311916, 37.727894053975035, 9.798154982812195),\n",
       " (59.948891475559606, 216.54366519634982, 3.7341670088662458),\n",
       " (-294.92353483527927, -336.7771084950078, 1.382860901171944),\n",
       " (571.1729246728185, -9.485561724751449, 3.928689156095296),\n",
       " (-40.895688154465915, -219.7333899351152, 4.426934828357516),\n",
       " (560.8525949861219, -4.217905190900069, 9.316610617854655),\n",
       " (-294.0664531505192, -359.3976048784171, 4.695097702603624),\n",
       " (-183.38908550771743, 407.9690315435305, 1.0431333108947005),\n",
       " (475.3809270321488, 356.29718911557836, 7.131355964060427),\n",
       " (18.085812750110676, 358.9590624582362, 5.815854783997462),\n",
       " (210.6726843301082, 3.995789828987256, 1.2211635276107247),\n",
       " (350.60386762495676, 179.501049255338, 6.99113800259393),\n",
       " (95.87897401843509, 386.70628807987237, 8.515241287901032),\n",
       " (464.4990036151775, -190.27744932219906, 1.723810567629842),\n",
       " (62.60411203896615, 185.9333590617092, 6.743398766109662),\n",
       " (62.63096026991116, -423.1355844130239, 7.2872404547459455),\n",
       " (344.68148481097927, -211.6977614195769, 8.463034711835132),\n",
       " (169.323088946646, 94.02229483938106, 6.931194946058172),\n",
       " (-173.0696008831643, 25.461665298363926, 7.784446046484113),\n",
       " (488.43261851132416, -84.33811063312811, 7.736663305628644),\n",
       " (53.8794985306472, -37.65188594778721, 9.768048219891977),\n",
       " (-223.70083564081315, 293.337109075537, 3.9454174284462997),\n",
       " (-109.97655605306488, 399.3982480892844, 6.413893619733146),\n",
       " (495.80585542992725, 246.4137232184171, 8.151791201726171),\n",
       " (457.76697000719986, -434.05436042680793, 7.835010761603441),\n",
       " (-193.71296142177022, 28.245154277289657, 8.637112429784402),\n",
       " (368.17234671402895, 120.844381186198, 7.009916102091102),\n",
       " (382.1174433171115, 369.2655151973695, 1.086481377793943),\n",
       " (-104.31104201682695, -84.96839466932886, 4.252572134850517),\n",
       " (465.8312089736682, -400.7724143884702, 8.63539572069022),\n",
       " (-103.76928760463397, 221.45218840430573, 6.360001693684849),\n",
       " (-167.3295395883351, 195.55398689140293, 4.824723626271124),\n",
       " (102.23680172179786, 26.054151758692626, 5.825068962305354),\n",
       " (-16.7783073199181, -210.3604661725423, 2.028707126406726),\n",
       " (174.58822834493463, -379.17718094551043, 1.5469774139728276),\n",
       " (47.19610946176152, -75.48340431583046, 8.440213167840318),\n",
       " (595.4273836323293, -217.3812554596229, 0.4242493111425516),\n",
       " (280.57518299578584, 213.36686876202782, 3.3227490192520226),\n",
       " (-170.2316328611077, 197.30405455658138, 4.6276212129335015),\n",
       " (593.3856486584907, -168.20778210347459, 2.1361786784330206),\n",
       " (289.2343540515432, -345.4764304116815, 2.2926297139083784),\n",
       " (571.67723987986, -242.5007801037692, 7.433068169205937),\n",
       " (107.66306027555203, -356.8366741816286, 2.2186350958109746),\n",
       " (323.72862430259585, -407.3335964943906, 7.93794804101219),\n",
       " (53.73486305790044, -100.55006971736748, 6.8504328002394494),\n",
       " (150.04765556978566, -347.2956116574205, 4.177383294661321),\n",
       " (-314.39115915147335, -293.57095157558183, 7.165036941119675),\n",
       " (529.9432439634743, -202.6729585827623, 5.471782364578384),\n",
       " (-256.2259313276285, -418.26938387376896, 1.8595683680754826),\n",
       " (84.76059609012077, -178.25602724448993, 1.4302206174772114),\n",
       " (-299.06128966626227, 59.827934959036895, 7.852587590537916),\n",
       " (-41.248852746717034, 16.86232302735766, 2.7202352942337904),\n",
       " (260.15244817152103, -206.16684957815315, 3.456736646191673),\n",
       " (544.0491811961797, 170.7725695612911, 9.266577816884627),\n",
       " (284.75759767389667, 280.82037073266076, 0.7813081184816295),\n",
       " (16.355049047626608, 370.1843010496634, 0.30430513227660994),\n",
       " (169.51498346281892, -108.8987493582062, 9.012356780747266),\n",
       " (459.5245630008538, -230.4351103240927, 8.125062054617567),\n",
       " (-141.51505668304947, 324.5873258566206, 7.652974065900344),\n",
       " (47.99056341313673, 426.4407705178704, 7.6829370020591075),\n",
       " (496.3406181364896, -174.4957168354643, 8.140629898189527),\n",
       " (382.0555073969501, -269.72913869252704, 1.0258606069564424),\n",
       " (0.46379347769175183, 458.40360095471954, 0.357578026460893),\n",
       " (394.4421907155789, 132.47579122230195, 0.49119681526637815),\n",
       " (109.77960227396227, -225.2640475492282, 2.3562176098611776),\n",
       " (322.9986527010015, -72.04315317599145, 7.974065992722523),\n",
       " (258.31397648156207, -346.57737529553896, 8.291507073428894),\n",
       " (-126.86071189165673, 127.00869315263503, 3.111170432558905),\n",
       " (7.835505587152852, 311.20484833968476, 5.544215401152416),\n",
       " (182.21059905103078, 124.44718797778626, 8.362518237075218),\n",
       " (-314.2861628516255, -158.5440968203796, 0.9012997996770977),\n",
       " (487.7832780933008, 213.46875601740896, 0.6770509657443669),\n",
       " (121.80211073206937, 218.9698213673929, 4.020202477136172),\n",
       " (576.820122313718, 109.77156785114937, 9.431308958005882),\n",
       " (574.0396219444272, 416.29530980782374, 8.547057823225732),\n",
       " (-162.24029053589192, -263.5340698779645, 9.701139378680866),\n",
       " (187.73304714531764, 392.4000351721021, 0.9947132983269025),\n",
       " (21.42623219164119, 374.0924416325321, 0.9241165555356512),\n",
       " (143.43477796645982, 138.88130863200251, 5.488189922656705),\n",
       " (-237.07759382377878, -245.88425333481388, 8.367203910377455),\n",
       " (454.53370343260536, -422.24454795012696, 6.1048864679784165),\n",
       " (-180.0679342709396, -418.780574830506, 6.451714841194924),\n",
       " (427.6353291184993, 106.98487506539016, 2.5154757257539826),\n",
       " (176.09654296130196, -25.928238218413355, 2.7170827569297327),\n",
       " (-286.92252705802525, 403.5557932222831, 3.376550381131671),\n",
       " (-25.63152594358013, 242.5910642777318, 1.4564734860537454),\n",
       " (113.96609901061277, -19.637463584193426, 0.9230264514373521),\n",
       " (303.03640692745404, -376.4676544747261, 0.6735803308153832),\n",
       " (502.90688341154606, 30.902182689133895, 9.621698063975323),\n",
       " (-189.33315644582405, 423.38832570878674, 5.992091764512503),\n",
       " (138.781680550212, -152.41190233715344, 4.419212700259402),\n",
       " (-210.88419795409962, 66.79957339382196, 9.979801032288666)]"
      ]
     },
     "execution_count": 353,
     "metadata": {},
     "output_type": "execute_result"
    }
   ],
   "source": [
    "samples"
   ]
  },
  {
   "cell_type": "markdown",
   "metadata": {},
   "source": [
    "## Removing Points Colliding With Obstacles\n",
    "\n",
    "Prior to remove a point we must determine whether it collides with any obstacle. Complete the `collides` function below. It should return `True` if the point collides with *any* obstacle and `False` if no collision is detected."
   ]
  },
  {
   "cell_type": "code",
   "execution_count": 344,
   "metadata": {},
   "outputs": [],
   "source": [
    "def collides(polygons, point):   \n",
    "\n",
    "    for (p, height, center) in polygons:\n",
    "    \n",
    "        #Separar ponto em (x,y) e z\n",
    "        xy = Point(point[:2]) \n",
    "        z = point[2]\n",
    "        \n",
    "        if p.contains(xy) and z <= height:\n",
    "            return True\n",
    "        \n",
    "    return False"
   ]
  },
  {
   "cell_type": "markdown",
   "metadata": {},
   "source": [
    "Use `collides` for all points in the sample."
   ]
  },
  {
   "cell_type": "code",
   "execution_count": 345,
   "metadata": {},
   "outputs": [
    {
     "name": "stdout",
     "output_type": "stream",
     "text": [
      "Time taken {0} seconds ... 3.9934892654418945\n"
     ]
    }
   ],
   "source": [
    "t0 = time.time()\n",
    "to_keep = []\n",
    "for point in samples:\n",
    "    if not collides(polygons, point):\n",
    "        to_keep.append(point)\n",
    "time_taken = time.time() - t0\n",
    "print(\"Time taken {0} seconds ...\", time_taken)"
   ]
  },
  {
   "cell_type": "code",
   "execution_count": 346,
   "metadata": {},
   "outputs": [
    {
     "name": "stdout",
     "output_type": "stream",
     "text": [
      "57\n"
     ]
    }
   ],
   "source": [
    "print(len(to_keep))"
   ]
  },
  {
   "cell_type": "markdown",
   "metadata": {},
   "source": [
    "## Points Visualization"
   ]
  },
  {
   "cell_type": "code",
   "execution_count": 347,
   "metadata": {},
   "outputs": [],
   "source": [
    "from grid import create_grid\n",
    "grid = create_grid(data, zmax, safe_distance)"
   ]
  },
  {
   "cell_type": "code",
   "execution_count": 348,
   "metadata": {},
   "outputs": [
    {
     "data": {
      "image/png": "[encoded data removed]",
      "text/plain": [
       "<matplotlib.figure.Figure at 0x27f8d0e0e10>"
      ]
     },
     "metadata": {},
     "output_type": "display_data"
    }
   ],
   "source": [
    "fig = plt.figure()\n",
    "\n",
    "plt.imshow(grid, cmap='Greys', origin='lower')\n",
    "\n",
    "nmin = np.floor(np.amin(data[:, 0] - data[:, 3]))\n",
    "emin = np.floor(np.amin(data[:, 1] - data[:, 4]))\n",
    "\n",
    "# draw points\n",
    "all_pts = np.array(to_keep)\n",
    "north_vals = all_pts[:,0] - nmin\n",
    "east_vals = all_pts[:,1] - emin\n",
    "plt.scatter(east_vals, north_vals, c='red')\n",
    "\n",
    "\n",
    "\n",
    "plt.ylabel('NORTH')\n",
    "plt.xlabel('EAST')\n",
    "\n",
    "plt.show()"
   ]
  },
  {
   "cell_type": "markdown",
   "metadata": {},
   "source": [
    "[Solution](/notebooks/Random-Sampling-Solution.ipynb)"
   ]
  },
  {
   "cell_type": "markdown",
   "metadata": {},
   "source": [
    "## Epilogue\n",
    "\n",
    "You may have noticed removing points can be quite lengthy. In the implementation provided here we're naively checking to see if the point collides with each polygon when in reality it can only collide with one, the one that's closest to the point. The question then becomes \n",
    "\n",
    "\"How do we efficiently find the closest polygon to the point?\"\n",
    "\n",
    "One such approach is to use a *[k-d tree](https://en.wikipedia.org/wiki/K-d_tree)*, a space-partitioning data structure which allows search queries in $O(log(n))$. The *k-d tree* achieves this by cutting the search space in half on each step of a query.\n",
    "\n",
    "This would bring the total algorithm time down to $O(m * log(n))$ from $O(m*n)$.\n",
    "\n",
    "The scikit-learn library has an efficient implementation [readily available](http://scikit-learn.org/stable/modules/generated/sklearn.neighbors.KDTree.html#sklearn.neighbors.KDTree)."
   ]
  },
  {
   "cell_type": "markdown",
   "metadata": {},
   "source": [
    ">>> import numpy as np\n",
    ">>> np.random.seed(0)\n",
    ">>> X = np.random.random((10, 3))  # 10 points in 3 dimensions\n",
    ">>> tree = KDTree(X, leaf_size=2)              \n",
    ">>> dist, ind = tree.query([X[0]], k=3)                \n",
    ">>> print(ind)  # indices of 3 closest neighbors\n",
    "[0 3 1]\n",
    ">>> print(dist)  # distances to 3 closest neighbors\n",
    "[ 0.          0.19662693  0.29473397]"
   ]
  },
  {
   "cell_type": "code",
   "execution_count": 349,
   "metadata": {},
   "outputs": [],
   "source": [
    "import scipy as sp\n",
    "\n",
    "def collides(polygons, point, pc):   \n",
    "    \n",
    "    tree = sp.spatial.KDTree(pc, leafsize = 400)\n",
    "    \n",
    "    dist, ind = tree.query([point[0:2]], k=1)\n",
    "    \n",
    "    #Separar ponto em (x,y) e z\n",
    "    xy = Point(point[:2]) \n",
    "    z = point[2]\n",
    "    \n",
    "    p, height, center = polygons[ind[0]]\n",
    "    \n",
    "    if p.contains(xy) and z <= height:\n",
    "        return True\n",
    "    else:    \n",
    "        return False"
   ]
  },
  {
   "cell_type": "code",
   "execution_count": 350,
   "metadata": {},
   "outputs": [
    {
     "name": "stdout",
     "output_type": "stream",
     "text": [
      "3845\n",
      "Time taken {0} seconds ... 0.22684025764465332\n"
     ]
    }
   ],
   "source": [
    "t0 = time.time()\n",
    "to_keep = []\n",
    "pol_centers = [p[2] for p in polygons]\n",
    "print(len(pol_centers))\n",
    "for point in samples:\n",
    "    if not collides(polygons, point, pol_centers):\n",
    "        to_keep.append(point)\n",
    "time_taken = time.time() - t0\n",
    "print(\"Time taken {0} seconds ...\", time_taken)"
   ]
  },
  {
   "cell_type": "code",
   "execution_count": 351,
   "metadata": {},
   "outputs": [
    {
     "name": "stdout",
     "output_type": "stream",
     "text": [
      "57\n"
     ]
    }
   ],
   "source": [
    "print(len(to_keep))"
   ]
  },
  {
   "cell_type": "code",
   "execution_count": 352,
   "metadata": {},
   "outputs": [
    {
     "data": {
      "image/png": "[encoded data removed]",
      "text/plain": [
       "<matplotlib.figure.Figure at 0x27f8d0eab00>"
      ]
     },
     "metadata": {},
     "output_type": "display_data"
    }
   ],
   "source": [
    "fig = plt.figure()\n",
    "\n",
    "plt.imshow(grid, cmap='Greys', origin='lower')\n",
    "\n",
    "nmin = np.floor(np.amin(data[:, 0] - data[:, 3]))\n",
    "emin = np.floor(np.amin(data[:, 1] - data[:, 4]))\n",
    "\n",
    "# draw points\n",
    "all_pts = np.array(to_keep)\n",
    "north_vals = all_pts[:,0] - nmin\n",
    "east_vals = all_pts[:,1] - emin\n",
    "plt.scatter(east_vals, north_vals, c='red')\n",
    "\n",
    "\n",
    "\n",
    "plt.ylabel('NORTH')\n",
    "plt.xlabel('EAST')\n",
    "\n",
    "plt.show()"
   ]
  },
  {
   "cell_type": "code",
   "execution_count": null,
   "metadata": {},
   "outputs": [],
   "source": []
  }
 ],
 "metadata": {
  "kernelspec": {
   "display_name": "Python 3",
   "language": "python",
   "name": "python3"
  },
  "language_info": {
   "codemirror_mode": {
    "name": "ipython",
    "version": 3
   },
   "file_extension": ".py",
   "mimetype": "text/x-python",
   "name": "python",
   "nbconvert_exporter": "python",
   "pygments_lexer": "ipython3",
   "version": "3.6.3"
  }
 },
 "nbformat": 4,
 "nbformat_minor": 2
}
