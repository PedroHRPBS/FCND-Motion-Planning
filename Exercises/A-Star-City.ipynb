{
 "cells": [
  {
   "cell_type": "markdown",
   "metadata": {},
   "source": [
    "## Finding Your Way In The City\n",
    "\n",
    "In this notebook you'll combine the work of previous exercises to calculate a minimal series of waypoints in order to get from a start location to a goal location.\n",
    "\n",
    "You'll reuse and modify your algorithms from:\n",
    "\n",
    "- A*\n",
    "- Configuration Space\n",
    "- Collinearity and/or Bresenham"
   ]
  },
  {
   "cell_type": "code",
   "execution_count": 1,
   "metadata": {},
   "outputs": [
    {
     "name": "stdout",
     "output_type": "stream",
     "text": [
      "[[-310.2389   -439.2315     85.5         5.          5.         85.5     ]\n",
      " [-300.2389   -439.2315     85.5         5.          5.         85.5     ]\n",
      " [-290.2389   -439.2315     85.5         5.          5.         85.5     ]\n",
      " ...\n",
      " [ 257.8061    425.1645      1.75852     1.292725    1.292725    1.944791]\n",
      " [ 293.9967    368.3391      3.557666    1.129456    1.129456    3.667319]\n",
      " [ 281.5162    354.4156      4.999351    1.053772    1.053772    4.950246]]\n"
     ]
    },
    {
     "data": {
      "text/plain": [
       "<matplotlib.figure.Figure at 0x23fde9ab518>"
      ]
     },
     "metadata": {},
     "output_type": "display_data"
    },
    {
     "name": "stdout",
     "output_type": "stream",
     "text": [
      "Found a path.\n",
      "Found a path.\n"
     ]
    }
   ],
   "source": [
    "import numpy as np\n",
    "import matplotlib.pyplot as plt\n",
    "from grid import create_grid\n",
    "from planning import a_star\n",
    "from planning import heuristic_euclidean, heuristic_manhattan\n",
    "\n",
    "%matplotlib inline\n",
    "\n",
    "#from bresenham import bresenham"
   ]
  },
  {
   "cell_type": "code",
   "execution_count": 2,
   "metadata": {},
   "outputs": [],
   "source": [
    "plt.rcParams['figure.figsize'] = 12, 12"
   ]
  },
  {
   "cell_type": "markdown",
   "metadata": {},
   "source": [
    "You'll notice we've imported `create_grid`, and `a_star`. These are functions you've implemented in previous exercises, and here you'll use them to create a map and find a path from a starting position to a goal position.\n",
    "\n",
    "To read the function signature and documentation execute `?` followed by the function name in a cell. In the example below we'll check the documentation for `create_grid`."
   ]
  },
  {
   "cell_type": "code",
   "execution_count": 3,
   "metadata": {},
   "outputs": [],
   "source": [
    "?create_grid"
   ]
  },
  {
   "cell_type": "markdown",
   "metadata": {},
   "source": [
    "If you would like to alter these implementations, you can modify [grid.py](/edit/grid.py) and [planning.py](/edit/planning.py) in the current directory."
   ]
  },
  {
   "cell_type": "code",
   "execution_count": 8,
   "metadata": {},
   "outputs": [
    {
     "name": "stdout",
     "output_type": "stream",
     "text": [
      "[[-310.2389   -439.2315     85.5         5.          5.         85.5     ]\n",
      " [-300.2389   -439.2315     85.5         5.          5.         85.5     ]\n",
      " [-290.2389   -439.2315     85.5         5.          5.         85.5     ]\n",
      " ...\n",
      " [ 257.8061    425.1645      1.75852     1.292725    1.292725    1.944791]\n",
      " [ 293.9967    368.3391      3.557666    1.129456    1.129456    3.667319]\n",
      " [ 281.5162    354.4156      4.999351    1.053772    1.053772    4.950246]]\n"
     ]
    }
   ],
   "source": [
    "# This is the same obstacle data from the previous lesson.\n",
    "filename = 'colliders.csv'\n",
    "data = np.loadtxt(filename, delimiter=',', dtype='Float64', skiprows=2)\n",
    "print(data)"
   ]
  },
  {
   "cell_type": "code",
   "execution_count": 15,
   "metadata": {},
   "outputs": [],
   "source": [
    "# Static drone altitude (meters)\n",
    "drone_altitude = 25\n",
    "\n",
    "# Minimum distance stay away from obstacle (meters)\n",
    "safe_distance = 3"
   ]
  },
  {
   "cell_type": "code",
   "execution_count": 16,
   "metadata": {},
   "outputs": [],
   "source": [
    "# TODO: Use `create_grid` to create a grid configuration space of\n",
    "# the obstacle data.\n",
    "grid = create_grid(data, drone_altitude, safe_distance)"
   ]
  },
  {
   "cell_type": "code",
   "execution_count": 17,
   "metadata": {
    "scrolled": false
   },
   "outputs": [
    {
     "data": {
      "image/png": "[encoded data removed]",
      "text/plain": [
       "<matplotlib.figure.Figure at 0x23fe0a599b0>"
      ]
     },
     "metadata": {},
     "output_type": "display_data"
    }
   ],
   "source": [
    "# equivalent to\n",
    "# plt.imshow(np.flip(grid, 0))\n",
    "plt.imshow(grid, origin='lower') \n",
    "\n",
    "plt.xlabel('EAST')\n",
    "plt.ylabel('NORTH')\n",
    "plt.show()"
   ]
  },
  {
   "cell_type": "code",
   "execution_count": null,
   "metadata": {},
   "outputs": [],
   "source": [
    "def breadth_first(grid, start, goal):\n",
    "    q = Queue()\n",
    "    q.put((0, start))\n",
    "    visited = set(start)\n",
    "    branch = {}\n",
    "    found = False\n",
    "    mapa = np.zeros(np.shape(grid))\n",
    "    mapa[mapa > -1] = inf \n",
    "\n",
    "    while not q.empty(): \n",
    "        item = q.get()\n",
    "        current_node = item[1]\n",
    "        \n",
    "        if current_node == start:\n",
    "            current_cost = 0.0\n",
    "        else:              \n",
    "            current_cost = branch[current_node][0]\n",
    "        \n",
    "        if current_node == goal: \n",
    "            print('Found a path.')\n",
    "            found = True\n",
    "            break\n",
    "        else:\n",
    "            valid = valid_actions(grid, current_node)\n",
    "            for action in valid:\n",
    "                da = action.value\n",
    "                next_node = (current_node[0] + da[0], current_node[1] + da[1])\n",
    "                branch_cost = action.cost + current_cost\n",
    "                mapa[current_node] = current_cost\n",
    "                if next_node not in visited:\n",
    "                    visited.add(next_node)\n",
    "                    q.put((branch_cost, next_node))    \n",
    "                    branch[next_node] = (branch_cost, current_node, action)\n",
    "   \n",
    "    print(current_cost)\n",
    "    return mapa"
   ]
  },
  {
   "cell_type": "markdown",
   "metadata": {},
   "source": [
    "Next you'll compute the path from a start location to a goal location using A*."
   ]
  },
  {
   "cell_type": "markdown",
   "metadata": {},
   "source": [
    "Start and goal coordinates in *(north, east)*."
   ]
  },
  {
   "cell_type": "code",
   "execution_count": 9,
   "metadata": {},
   "outputs": [],
   "source": [
    "start_ne = (25,  100)\n",
    "goal_ne = (750., 370.)"
   ]
  },
  {
   "cell_type": "markdown",
   "metadata": {},
   "source": [
    "Compute the lowest cost path with `a_star`. "
   ]
  },
  {
   "cell_type": "code",
   "execution_count": 10,
   "metadata": {},
   "outputs": [
    {
     "name": "stdout",
     "output_type": "stream",
     "text": [
      "Found a path.\n",
      "Found a path.\n",
      "756 866.5950211536186 766 912.2173875177057\n"
     ]
    }
   ],
   "source": [
    "# TODO: use `a_star` to compute the lowest cost path\n",
    "path_euc, cost_euc, steps_euc = a_star(grid, heuristic_euclidean, start_ne, goal_ne)\n",
    "path_man, cost_man, steps_man = a_star(grid, heuristic_manhattan, start_ne, goal_ne)\n",
    "\n",
    "print(len(path_euc), cost_euc, len(path_man), cost_man)"
   ]
  },
  {
   "cell_type": "markdown",
   "metadata": {},
   "source": [
    "Let's plot the path!"
   ]
  },
  {
   "cell_type": "code",
   "execution_count": 11,
   "metadata": {},
   "outputs": [
    {
     "data": {
      "image/png": "[encoded data removed]",
      "text/plain": [
       "<matplotlib.figure.Figure at 0x2d4173ddeb8>"
      ]
     },
     "metadata": {},
     "output_type": "display_data"
    }
   ],
   "source": [
    "plt.imshow(grid, cmap='Greys', origin='lower')\n",
    "\n",
    "# For the purposes of the visual the east coordinate lay along\n",
    "# the x-axis and the north coordinates long the y-axis.\n",
    "plt.plot(start_ne[1], start_ne[0], 'x')\n",
    "plt.plot(goal_ne[1], goal_ne[0], 'x')\n",
    "\n",
    "pp_euc = np.array(path_euc)\n",
    "plt.plot(pp_euc[:, 1], pp_euc[:, 0], 'g')\n",
    "\n",
    "pp_man = np.array(path_man)\n",
    "plt.plot(pp_man[:, 1], pp_man[:, 0], 'b')\n",
    "\n",
    "plt.xlabel('EAST')\n",
    "plt.ylabel('NORTH')\n",
    "plt.show()"
   ]
  },
  {
   "cell_type": "markdown",
   "metadata": {},
   "source": [
    "Pretty neat! Unfortunately this path is impractical, the drone would be constantly stopping and going since each grid cell visited is synonymous with a waypoint. Ideally, we'd like to only consider a new waypoint when the drone's direction changes. Path pruning is one way to achieve this result."
   ]
  },
  {
   "cell_type": "markdown",
   "metadata": {},
   "source": [
    "### Path Pruning"
   ]
  },
  {
   "cell_type": "code",
   "execution_count": 12,
   "metadata": {},
   "outputs": [],
   "source": [
    "def point(p):\n",
    "    #reshape (1,-1), -1 é um valor não especificado, mas é esperado que seja 3\n",
    "    return np.array([p[0], p[1], 1.]).reshape(1, -1)\n",
    "\n",
    "def collinearity_check(p1, p2, p3, epsilon=1e-6):   \n",
    "    m = np.concatenate((p1, p2, p3), 0)\n",
    "    det = np.linalg.det(m)\n",
    "    return abs(det) < epsilon"
   ]
  },
  {
   "cell_type": "markdown",
   "metadata": {},
   "source": [
    "Complete the `prune_path` function below. It should return a new path much shorter than the original."
   ]
  },
  {
   "cell_type": "code",
   "execution_count": 13,
   "metadata": {},
   "outputs": [],
   "source": [
    "def prune_path_colin(path):\n",
    "\n",
    "    pruned_path = [p for p in path]\n",
    "    i = 0\n",
    "    while i < len(pruned_path) - 2:\n",
    "        p1 = point(pruned_path[i])\n",
    "        p2 = point(pruned_path[i+1])\n",
    "        p3 = point(pruned_path[i+2])\n",
    "        \n",
    "        if collinearity_check(p1, p2, p3):\n",
    "            pruned_path.remove(pruned_path[i+1])\n",
    "        else:\n",
    "            i += 1\n",
    "            \n",
    "    return pruned_path"
   ]
  },
  {
   "cell_type": "code",
   "execution_count": 19,
   "metadata": {},
   "outputs": [],
   "source": [
    "from bresenham import bresenham\n",
    "\n",
    "def prune_path_bres(path, gridd, goal):\n",
    "    \n",
    "    pruned_path = [p for p in path]\n",
    "    i = 0\n",
    "    \n",
    "    while i < len(pruned_path) - 2:\n",
    "        p1 = pruned_path[i]\n",
    "        p2 = pruned_path[i+2]\n",
    "        k = 0\n",
    "        \n",
    "        cells = list(bresenham(int(p1[0]), int(p1[1]), int(p2[0]), int(p2[1])))\n",
    "        #print(cells)\n",
    "        \n",
    "        for c in cells:\n",
    "            k += gridd[c]\n",
    "            #print(k)\n",
    "            \n",
    "        if k > 0:\n",
    "            i += 1\n",
    "        else:\n",
    "            pruned_path.remove(pruned_path[i+1])\n",
    "        \n",
    "    pruned_path.append(goal)\n",
    "    \n",
    "    return pruned_path          \n",
    "        "
   ]
  },
  {
   "cell_type": "markdown",
   "metadata": {},
   "source": [
    "Prune the path."
   ]
  },
  {
   "cell_type": "code",
   "execution_count": 20,
   "metadata": {},
   "outputs": [
    {
     "name": "stdout",
     "output_type": "stream",
     "text": [
      "116\n",
      "10\n"
     ]
    }
   ],
   "source": [
    "pruned_path_colin = prune_path_colin(path_euc)\n",
    "print(len(pruned_path_colin))\n",
    "\n",
    "p_p_bres = prune_path_bres(path_euc, grid, goal_ne)\n",
    "print(len(p_p_bres))\n"
   ]
  },
  {
   "cell_type": "code",
   "execution_count": 21,
   "metadata": {},
   "outputs": [],
   "source": [
    "#pruned_path_colin"
   ]
  },
  {
   "cell_type": "markdown",
   "metadata": {},
   "source": [
    "Replot the path, it will be the same as before but the drone flight will be much smoother."
   ]
  },
  {
   "cell_type": "code",
   "execution_count": 22,
   "metadata": {},
   "outputs": [
    {
     "data": {
      "image/png": "[encoded data removed]",
      "text/plain": [
       "<matplotlib.figure.Figure at 0x2d41744b320>"
      ]
     },
     "metadata": {},
     "output_type": "display_data"
    }
   ],
   "source": [
    "plt.imshow(grid, cmap='Greys', origin='lower')\n",
    "\n",
    "plt.plot(start_ne[1], start_ne[0], 'x')\n",
    "plt.plot(goal_ne[1], goal_ne[0], 'x')\n",
    "\n",
    "pp = np.array(pruned_path_colin)\n",
    "plt.plot(pp[:, 1], pp[:, 0], 'g')\n",
    "plt.scatter(pp[:, 1], pp[:, 0])\n",
    "\n",
    "pp = np.array(p_p_bres)\n",
    "plt.plot(pp[:, 1], pp[:, 0], 'k')\n",
    "plt.scatter(pp[:, 1], pp[:, 0])\n",
    "\n",
    "\n",
    "plt.xlabel('EAST')\n",
    "plt.ylabel('NORTH')\n",
    "\n",
    "plt.show()"
   ]
  },
  {
   "cell_type": "markdown",
   "metadata": {},
   "source": [
    "Now the waypoints symbolize a change in direction, much better!"
   ]
  },
  {
   "cell_type": "markdown",
   "metadata": {},
   "source": [
    "[solution](/notebooks/A-Star-City-Solution.ipynb)"
   ]
  }
 ],
 "metadata": {
  "kernelspec": {
   "display_name": "Python 3",
   "language": "python",
   "name": "python3"
  },
  "language_info": {
   "codemirror_mode": {
    "name": "ipython",
    "version": 3
   },
   "file_extension": ".py",
   "mimetype": "text/x-python",
   "name": "python",
   "nbconvert_exporter": "python",
   "pygments_lexer": "ipython3",
   "version": "3.6.3"
  }
 },
 "nbformat": 4,
 "nbformat_minor": 2
}
