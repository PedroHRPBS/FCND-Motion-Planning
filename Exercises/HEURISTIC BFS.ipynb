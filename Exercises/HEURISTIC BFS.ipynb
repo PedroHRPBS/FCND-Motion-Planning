{
 "cells": [
  {
   "cell_type": "code",
   "execution_count": 266,
   "metadata": {},
   "outputs": [],
   "source": [
    "# Import numpy, Enum and Queue\n",
    "import numpy as np\n",
    "from enum import Enum\n",
    "from queue import Queue\n",
    "from math import sqrt\n",
    "from math import inf"
   ]
  },
  {
   "cell_type": "code",
   "execution_count": 267,
   "metadata": {},
   "outputs": [],
   "source": [
    "# Define a start and goal location\n",
    "s = (0, 0)\n",
    "g = (4, 4)\n",
    "found_path = False\n",
    "# Define your grid-based state space of obstacles and free space\n",
    "grid = np.array([\n",
    "    [0, 1, 0, 0, 0, 0],\n",
    "    [0, 1, 0, 0, 0, 0],\n",
    "    [0, 1, 0, 1, 0, 0],\n",
    "    [0, 0, 0, 1, 1, 0],\n",
    "    [0, 0, 0, 1, 0, 0],\n",
    "])"
   ]
  },
  {
   "cell_type": "code",
   "execution_count": 268,
   "metadata": {},
   "outputs": [
    {
     "name": "stdout",
     "output_type": "stream",
     "text": [
      "5 6\n"
     ]
    }
   ],
   "source": [
    "print(np.shape(grid)[0],np.shape(grid)[1])\n"
   ]
  },
  {
   "cell_type": "code",
   "execution_count": 269,
   "metadata": {},
   "outputs": [],
   "source": [
    "class Action(Enum):\n",
    "    \"\"\"\n",
    "    An action is represented by a 3 element tuple.\n",
    "    \n",
    "    The first 2 values are the delta of the action relative\n",
    "    to the current grid position. The third and final value\n",
    "    is the cost of performing the action.\n",
    "    \"\"\"\n",
    "    LEFT = (0, -1, 1)\n",
    "    RIGHT = (0, 1, 1)\n",
    "    UP = (-1, 0, 1)\n",
    "    DOWN = (1, 0, 1)\n",
    "    LEFTUP = (-1, -1, sqrt(2))\n",
    "    LEFTDOWN = (1, -1, sqrt(2))\n",
    "    RIGHTUP = (-1, 1, sqrt(2))\n",
    "    RIGHTDOWN = (1, 1, sqrt(2))\n",
    "\n",
    "    @property\n",
    "    def cost(self):\n",
    "        return self.value[2]\n",
    "    \n",
    "    @property\n",
    "    def delta(self):\n",
    "        return (self.value[0], self.value[1])\n",
    "            \n",
    "    \n",
    "def valid_actions(grid, current_node):\n",
    "    valid = [Action.UP, Action.LEFT, Action.RIGHT, Action.DOWN, Action.LEFTUP, Action.LEFTDOWN, Action.RIGHTUP, Action.RIGHTDOWN]\n",
    "    n, m = grid.shape[0] - 1, grid.shape[1] - 1\n",
    "    x, y = (current_node)\n",
    "    \n",
    "    \n",
    "    if x - 1 < 0 or grid[x-1, y] == 1:\n",
    "        valid.remove(Action.UP)\n",
    "    if x + 1 > n or grid[x+1, y] == 1:\n",
    "        valid.remove(Action.DOWN)\n",
    "    if y - 1 < 0 or grid[x, y-1] == 1:\n",
    "        valid.remove(Action.LEFT)\n",
    "    if y + 1 > m or grid[x, y+1] == 1:\n",
    "        valid.remove(Action.RIGHT)\n",
    "    if (x - 1 < 0 or y - 1 < 0) or grid[x-1, y-1] == 1:\n",
    "        valid.remove(Action.LEFTUP)\n",
    "    if (x + 1 > n or y - 1 < 0) or grid[x+1, y-1] == 1:\n",
    "        valid.remove(Action.LEFTDOWN)\n",
    "    if (x - 1 < 0 or y + 1 > m) or grid[x-1, y+1] == 1:\n",
    "        valid.remove(Action.RIGHTUP)\n",
    "    if (x + 1 > n or y + 1 > m) or grid[x+1, y+1] == 1:\n",
    "        valid.remove(Action.RIGHTDOWN)\n",
    "\n",
    "    return valid"
   ]
  },
  {
   "cell_type": "code",
   "execution_count": 280,
   "metadata": {},
   "outputs": [],
   "source": [
    "def breadth_first(grid, start, goal):\n",
    "    q = Queue()\n",
    "    q.put((0, start))\n",
    "    visited = set(start)\n",
    "    branch = {}\n",
    "    found = False\n",
    "    width = np.shape(grid)[1]\n",
    "    mapa = np.zeros(np.shape(grid)[0]-1 + (np.shape(grid)[1]-1) * width + 1)\n",
    "    mapa[mapa > -1] = inf \n",
    "    print(len(mapa))\n",
    "    while not q.empty(): \n",
    "        item = q.get()\n",
    "        current_node = item[1]\n",
    "        \n",
    "        if current_node == start:\n",
    "            current_cost = 0.0\n",
    "        else:              \n",
    "            current_cost = branch[current_node][0]\n",
    "        \n",
    "        if current_node == goal: \n",
    "            print('Found a path.')\n",
    "            found = True\n",
    "            break\n",
    "        else:\n",
    "            valid = valid_actions(grid, current_node)\n",
    "            for action in valid:\n",
    "                da = action.value\n",
    "                next_node = (current_node[0] + da[0], current_node[1] + da[1])\n",
    "                branch_cost = action.cost + current_cost\n",
    "                mapa[current_node[0] + current_node[1] * width] = current_cost\n",
    "                if next_node not in visited:\n",
    "                    visited.add(next_node)\n",
    "                    q.put((branch_cost, next_node))    \n",
    "                    branch[next_node] = (branch_cost, current_node, action)\n",
    "   \n",
    "    print(current_cost)\n",
    "    return mapa"
   ]
  },
  {
   "cell_type": "code",
   "execution_count": 281,
   "metadata": {},
   "outputs": [
    {
     "name": "stdout",
     "output_type": "stream",
     "text": [
      "35\n",
      "Found a path.\n",
      "10.485281374238571\n",
      "[ 0.          1.          2.          3.          4.                 inf\n",
      "         inf         inf         inf  3.41421356  4.41421356         inf\n",
      "  6.82842712  5.82842712  4.82842712  4.41421356  4.82842712         inf\n",
      "  7.24264069  6.24264069         inf         inf         inf         inf\n",
      "  7.65685425  7.24264069  7.65685425         inf         inf         inf\n",
      "  8.65685425  8.24264069  8.65685425  9.07106781 10.07106781]\n",
      "[[0 1 0 0 0 0]\n",
      " [0 1 0 0 0 0]\n",
      " [0 1 0 1 0 0]\n",
      " [0 0 0 1 1 0]\n",
      " [0 0 0 1 0 0]]\n"
     ]
    }
   ],
   "source": [
    "mapa = breadth_first(grid, s, g)\n",
    "#print(path)\n",
    "#print(steps)\n",
    "print(mapa)\n",
    "print(grid)\n"
   ]
  },
  {
   "cell_type": "code",
   "execution_count": null,
   "metadata": {},
   "outputs": [],
   "source": []
  },
  {
   "cell_type": "code",
   "execution_count": null,
   "metadata": {},
   "outputs": [],
   "source": []
  }
 ],
 "metadata": {
  "kernelspec": {
   "display_name": "Python 3",
   "language": "python",
   "name": "python3"
  },
  "language_info": {
   "codemirror_mode": {
    "name": "ipython",
    "version": 3
   },
   "file_extension": ".py",
   "mimetype": "text/x-python",
   "name": "python",
   "nbconvert_exporter": "python",
   "pygments_lexer": "ipython3",
   "version": "3.6.3"
  }
 },
 "nbformat": 4,
 "nbformat_minor": 2
}
